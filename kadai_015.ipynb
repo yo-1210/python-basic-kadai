{
  "cells": [
    {
      "cell_type": "code",
      "source": [
        "\n",
        "class Human:\n",
        "\n",
        "    def __init__(self, name, age):\n",
        "        self.name = name\n",
        "        self.age = age\n",
        "\n",
        "\n",
        "    def printinfo(self):\n",
        "        print(f\"名前: {self.name}, 年齢: {self.age}歳\")\n",
        "\n",
        "\n",
        "person = Human(\"侍太郎\", 25)\n",
        "\n",
        "\n",
        "person.printinfo()\n"
      ],
      "metadata": {
        "id": "5pI9WSbnFCw5",
        "outputId": "14c37114-9324-4bed-f32e-476cbb974dc5",
        "colab": {
          "base_uri": "https://localhost:8080/"
        }
      },
      "execution_count": 2,
      "outputs": [
        {
          "output_type": "stream",
          "name": "stdout",
          "text": [
            "名前: 侍太郎, 年齢: 25歳\n"
          ]
        }
      ]
    }
  ],
  "metadata": {
    "colab": {
      "name": "Colaboratory へようこそ",
      "toc_visible": true,
      "provenance": []
    },
    "kernelspec": {
      "display_name": "Python 3",
      "name": "python3"
    }
  },
  "nbformat": 4,
  "nbformat_minor": 0
}