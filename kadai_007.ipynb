{
  "cells": [
    {
      "cell_type": "code",
      "source": [
        "array = [\"月曜日はれです\", \"火曜部は雨です\", \"水曜日は晴れです\", \"木曜部は晴れです\", \"金曜日は曇りです\",\"土曜日は曇りのうち雨です\",\"日曜日は雷雨です\"]\n",
        "print(array[2])\n",
        "\n",
        "dictionary = {\"mon\":\"晴れ\", \"tue\":\"雨\", \"wed\":\"晴れ\",\"thu\":\"晴れ\",\"fri\":\"曇り\", \"sat\":\"曇りのうち雨\",\"sun\":\"雷雨\"}\n",
        "print(dictionary[\"wed\"])"
      ],
      "metadata": {
        "colab": {
          "base_uri": "https://localhost:8080/"
        },
        "id": "RBhANP8AogyS",
        "outputId": "87b73acc-6cbd-4812-c208-8fe18ad48722"
      },
      "execution_count": 14,
      "outputs": [
        {
          "output_type": "stream",
          "name": "stdout",
          "text": [
            "水曜日は晴れです\n",
            "晴れ\n"
          ]
        }
      ]
    }
  ],
  "metadata": {
    "colab": {
      "name": "Colaboratory へようこそ",
      "toc_visible": true,
      "provenance": []
    },
    "kernelspec": {
      "display_name": "Python 3",
      "name": "python3"
    }
  },
  "nbformat": 4,
  "nbformat_minor": 0
}