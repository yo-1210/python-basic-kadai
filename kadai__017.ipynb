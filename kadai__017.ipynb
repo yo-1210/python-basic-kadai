{
  "cells": [
    {
      "cell_type": "code",
      "source": [
        "\n",
        "class Human:\n",
        "    def __init__(self, name, age):\n",
        "        self.name = name\n",
        "        self.age = age\n",
        "\n",
        "\n",
        "    def check_adult(self):\n",
        "        if self.age >= 20:\n",
        "            print(f\"{self.name} は大人です。\")\n",
        "        else:\n",
        "            print(f\"{self.name} は大人ではありません。\")\n",
        "\n",
        "\n",
        "humans = [\n",
        "    Human(\"侍太郎\", 25),\n",
        "    Human(\"侍二郎\", 18),\n",
        "    Human(\"侍三郎\", 30),\n",
        "    Human(\"侍四郎\", 15)\n",
        "]\n",
        "\n",
        "\n",
        "for person in humans:\n",
        "    person.check_adult()\n"
      ],
      "metadata": {
        "id": "U-IfW3lWIR1O",
        "outputId": "317b6973-b541-4798-db2c-cd18f7adf91b",
        "colab": {
          "base_uri": "https://localhost:8080/"
        }
      },
      "execution_count": 4,
      "outputs": [
        {
          "output_type": "stream",
          "name": "stdout",
          "text": [
            "侍太郎 は大人です。\n",
            "侍二郎 は大人ではありません。\n",
            "侍三郎 は大人です。\n",
            "侍四郎 は大人ではありません。\n"
          ]
        }
      ]
    }
  ],
  "metadata": {
    "colab": {
      "name": "Colaboratory へようこそ",
      "toc_visible": true,
      "provenance": []
    },
    "kernelspec": {
      "display_name": "Python 3",
      "name": "python3"
    }
  },
  "nbformat": 4,
  "nbformat_minor": 0
}