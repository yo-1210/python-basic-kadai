{
  "cells": [
    {
      "cell_type": "code",
      "source": [
        "\n",
        "def calculate_total(price, tax_rate):\n",
        "    total = price + (price * tax_rate / 100)\n",
        "    return total\n",
        "\n",
        "\n",
        "result = calculate_total(110, 10)\n",
        "\n",
        "\n",
        "print(f\"{result}円\")\n"
      ],
      "metadata": {
        "id": "jVOvRUS_8LKD",
        "outputId": "3cf036a7-daf5-4268-f7cc-c6e28c94d2f2",
        "colab": {
          "base_uri": "https://localhost:8080/"
        }
      },
      "execution_count": 30,
      "outputs": [
        {
          "output_type": "stream",
          "name": "stdout",
          "text": [
            "121.0円\n"
          ]
        }
      ]
    }
  ],
  "metadata": {
    "colab": {
      "name": "Colaboratory へようこそ",
      "toc_visible": true,
      "provenance": []
    },
    "kernelspec": {
      "display_name": "Python 3",
      "name": "python3"
    }
  },
  "nbformat": 4,
  "nbformat_minor": 0
}